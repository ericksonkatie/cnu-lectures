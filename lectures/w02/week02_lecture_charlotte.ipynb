{
 "cells": [
  {
   "cell_type": "markdown",
   "metadata": {
    "slideshow": {
     "slide_type": "slide"
    }
   },
   "source": [
    "# Week 2 session - Review: Python basics\n",
    "\n",
    "Useful documentation: [https://docs.python.org/3/library/index.html](https://docs.python.org/3/library/index.html)"
   ]
  },
  {
   "cell_type": "code",

   "execution_count": 1,

   "metadata": {},
   "outputs": [
    {
     "name": "stdout",
     "output_type": "stream",
     "text": [
      "3.11.7 | packaged by conda-forge | (main, Dec 23 2023, 14:43:09) [GCC 12.3.0]\n"
     ]
    }
   ],
   "source": [
    "import sys\n",

    "\n",

    "print(sys.version)"
   ]
  },
  {
   "cell_type": "markdown",
   "metadata": {
    "slideshow": {
     "slide_type": "slide"
    }
   },
   "source": [
    "## Variable assignment\n",
    "\n",
    "What will be the output?"
   ]
  },
  {
   "cell_type": "code",

   "execution_count": 9,

   "metadata": {},
   "outputs": [
    {
     "name": "stdout",
     "output_type": "stream",
     "text": [

      "10 8\n",
      "10, 8\n",
      "10\n",
      "8\n"

     ]
    }
   ],
   "source": [
    "# Defining our variables\n",
    "a = 4*2\n",
    "b = a\n",

    "a += 2 # same as a = a + 2 \n",
    "\n",
    "# Display the values of a and b\n",
    "print(a, b)\n",
    "print(a, b, sep=', ')\n",
    "print(a, b, sep='\\n')\n",
    "\n",
    "# command + forward slash to \"comment out\""

   ]
  },
  {
   "cell_type": "code",
   "execution_count": 22,
   "metadata": {},
   "outputs": [
    {
     "name": "stdout",
     "output_type": "stream",
     "text": [
      "Maariya\n"
     ]
    }
   ],
   "source": [
    "print(name_A)"
   ]
  },
  {
   "cell_type": "code",
   "execution_count": null,
   "metadata": {},
   "outputs": [],
   "source": []
  },
  {
   "cell_type": "code",
   "execution_count": null,
   "metadata": {},
   "outputs": [],
   "source": []
  },
  {
   "cell_type": "code",
   "execution_count": null,
   "metadata": {},
   "outputs": [],
   "source": []
  },
  {
   "cell_type": "code",
   "execution_count": null,
   "metadata": {},
   "outputs": [],
   "source": []
  },
  {
   "cell_type": "code",
   "execution_count": null,
   "metadata": {},
   "outputs": [],
   "source": []
  },
  {
   "cell_type": "markdown",
   "metadata": {
    "slideshow": {
     "slide_type": "slide"
    }
   },
   "source": [
    "## Strings\n",
    "\n",
    "What will be the output?"
   ]
  },
  {
   "cell_type": "code",

   "execution_count": 11,

   "metadata": {},
   "outputs": [
    {
     "name": "stdout",
     "output_type": "stream",
     "text": [
      "Tommy\n",
      "Jia\n",
      "9\n"
     ]
    }
   ],
   "source": [
    "name_A = 'Maariya'\n",
    "name_B = 'Tommy'\n",
    "name_C = 'Jia'\n",
    "\n",

    "print(max(name_A, name_B, name_C)) #alphabetical order \n",
    "print(min(name_A, name_B, name_C))\n",
    "\n",
    "print(max(2, 9, 6, 0, 1, 4))"

   ]
  },
  {
   "cell_type": "code",
   "execution_count": null,
   "metadata": {},
   "outputs": [],
   "source": []
  },
  {
   "cell_type": "code",
   "execution_count": null,
   "metadata": {},
   "outputs": [],
   "source": []
  },
  {
   "cell_type": "code",
   "execution_count": null,
   "metadata": {},
   "outputs": [],
   "source": []
  },
  {
   "cell_type": "code",
   "execution_count": null,
   "metadata": {},
   "outputs": [],
   "source": []
  },
  {
   "cell_type": "code",
   "execution_count": null,
   "metadata": {},
   "outputs": [],
   "source": []
  },
  {
   "cell_type": "code",
   "execution_count": null,
   "metadata": {},
   "outputs": [],
   "source": []
  },
  {
   "cell_type": "markdown",
   "metadata": {
    "slideshow": {
     "slide_type": "slide"
    }
   },
   "source": [
    "## Formatted strings (f-strings)\n",
    "\n",
    "[Documentation on f-strings](https://docs.python.org/3/tutorial/inputoutput.html#formatted-string-literals)\n",
    "\n",
    "`Maariya's flatmates are Tommy and Jia.`"
   ]
  },
  {
   "cell_type": "code",

   "execution_count": 16,

   "metadata": {},
   "outputs": [
    {
     "name": "stdout",
     "output_type": "stream",
     "text": [
      "Maariya's flatmates are Tommy and Jia.\n",
      "Maariya's flatmates are Tommy and Jia.\n"
     ]
    }
   ],
   "source": [

    "print(f\"{name_A}'s flatmates are {name_B} and {name_C}.\") \n",
    "print(f'{name_A}\\'s flatmates are {name_B} and {name_C}.') \n",
    "\n",
    "# use double for string when using apostrophe or backslash before character"

   ]
  },
  {
   "cell_type": "code",
   "execution_count": 30,
   "metadata": {},
   "outputs": [
    {
     "name": "stdout",
     "output_type": "stream",
     "text": [
      "c\n",
      "False\n"
     ]
    }
   ],
   "source": [
    "print(max('b', 'B', 'c'))\n",
    "print('c' < 'B')\n",
    "'AaBbCcDd'\n",
    "'aAbBcC'"
   ]
  },
  {
   "cell_type": "code",
   "execution_count": null,
   "metadata": {},
   "outputs": [],
   "source": []
  },
  {
   "cell_type": "code",
   "execution_count": null,
   "metadata": {},
   "outputs": [],
   "source": []
  },
  {
   "cell_type": "code",
   "execution_count": null,
   "metadata": {},
   "outputs": [],
   "source": []
  },
  {
   "cell_type": "markdown",
   "metadata": {
    "slideshow": {
     "slide_type": "slide"
    }
   },
   "source": [
    "`Room X is the largest.`"
   ]
  },
  {
   "cell_type": "code",

   "execution_count": 17,
   "metadata": {},
   "outputs": [
    {
     "name": "stdout",
     "output_type": "stream",
     "text": [
      "Room 11.3 is the largest.\n"
     ]
    }
   ],
   "source": [
    "# Room areas in square metres\n",
    "room_A, room_B, room_C = 6, 11.3, 8.2\n",
    "\n",
    "print(f'Room {max(room_A, room_B, room_C)} is the largest.')\n"
   ]
  },
  {
   "cell_type": "code",
   "execution_count": null,

   "metadata": {},
   "outputs": [
    {
     "name": "stdout",
     "output_type": "stream",
     "text": [
      "[6, 11.3, 8.2]\n",
      "6\n",
      "11.3\n",
      "1\n"
     ]
    }
   ],
   "source": [

    "# Room areas in square metres\n",
    "room_A, room_B, room_C = 6, 11.3, 8.2\n",
    "# print(room_B)\n",
    "\n",
    "# room_A = 6\n",
    "# room_B = 11.3\n",
    "# room_C = 8.2\n",
    "\n",
    "# Incorrect:\n",
    "# print(f'Room {max(room_A, room_B, room_C)} is the largest.')\n",
    "\n",
    "# One solution: create a list.\n",
    "rooms = [6, 11.3, 8.2]\n",
    "print(rooms)\n",
    "print(rooms[0])\n",
    "\n",
    "print(max(rooms))\n",
    "\n",
    "# Looking for the index (the position, starting from zero)\n",
    "# of the item whose value is the biggest\n",
    "print(rooms.index(max(rooms)))\n",
    "\n",
    "# TO DO: display the sentence above.\n",
    "# Easy: the result should show \"Room 1 is the largest.\"\n",
    "# Harder: the result should show \"Room B is the largest.\""

   ]
  },
  {
   "cell_type": "code",
   "execution_count": null,
   "metadata": {},
   "outputs": [],
   "source": []
  },
  {
   "cell_type": "code",
   "execution_count": 1,
   "metadata": {},
   "outputs": [
    {
     "name": "stdout",
     "output_type": "stream",
     "text": [
      "3\n",
      "6\n",
      "9\n",
      "12\n",
      "12\n"
     ]
    }
   ],
   "source": [
    "i = 0\n",
    "\n",
    "while i <= 10:\n",
    "    i += 3\n",
    "    print(i)\n",
    "\n",
    "print(i)"
   ]
  },
  {
   "cell_type": "code",
   "execution_count": 4,
   "metadata": {},
   "outputs": [
    {
     "name": "stdout",
     "output_type": "stream",
     "text": [
      "i is <= 20, but > 10\n",
      "The value of i is 13\n"
     ]
    }
   ],
   "source": [
    "i = 13\n",
    "\n",
    "if i <= 10:\n",
    "    i += 3\n",
    "    print(f'the condition is true!')\n",
    "elif i <=20:\n",
    "    print(f'i is <= 20, but > 10')\n",
    "else: \n",
    "    print(f'the condition is not true!')    \n",
    "\n",
    "print(f'The value of i is {i}')"
   ]
  },
  {
   "cell_type": "code",
   "execution_count": null,
   "metadata": {},
   "outputs": [],
   "source": []
  },
  {
   "cell_type": "markdown",
   "metadata": {
    "slideshow": {
     "slide_type": "slide"
    }
   },
   "source": [
    "`X's room is the largest.`"
   ]
  },
  {
   "cell_type": "code",
   "execution_count": null,
   "metadata": {},
   "outputs": [],
   "source": []
  },
  {
   "cell_type": "code",
   "execution_count": null,
   "metadata": {
    "slideshow": {
     "slide_type": "slide"
    }
   },
   "outputs": [],
   "source": [
    "#size of items:\n",
    "items = [2, 1, 3, 2, 1, 2, 3, 1]\n",
    "\n",
    "#size of bin:\n",
    "bin_size = 4\n",
    "\n",
    "def first_fit(items, bin_size):\n",
    "    bin_list = [0]\n",
    "\n",
    "    for item in items:\n",
    "        if item <= bin_list[0]:\n",
    "            bin_list[0] += item\n",
    "        else:\n",
    "            bin_list.append(item)\n",
    "   \n",
    "   \n",
    "    return bin_list\n",
    "\n",
    "\n",
    "print(first_fit(items, bin_size) == [4, 4, 4, 3])"
   ]
  },
  {
   "cell_type": "code",
   "execution_count": null,
   "metadata": {},
   "outputs": [],
   "source": []
  },
  {
   "cell_type": "code",
   "execution_count": null,
   "metadata": {},
   "outputs": [],
   "source": []
  },
  {
   "cell_type": "code",
   "execution_count": null,
   "metadata": {},
   "outputs": [],
   "source": []
  },
  {
   "cell_type": "code",
   "execution_count": null,
   "metadata": {},
   "outputs": [],
   "source": []
  }
 ],
 "metadata": {
  "celltoolbar": "Slideshow",
  "interpreter": {
   "hash": "f30fec01cca101540ea9ef63b3122cdc47ec1fb22c64585944e8a5fc27a29783"
  },
  "kernelspec": {
   "display_name": "Python 3 (ipykernel)",
   "language": "python",
   "name": "python3"
  },
  "language_info": {
   "codemirror_mode": {
    "name": "ipython",
    "version": 3
   },
   "file_extension": ".py",
   "mimetype": "text/x-python",
   "name": "python",
   "nbconvert_exporter": "python",
   "pygments_lexer": "ipython3",
   "version": "3.11.7"
  }
 },
 "nbformat": 4,
 "nbformat_minor": 4
}
